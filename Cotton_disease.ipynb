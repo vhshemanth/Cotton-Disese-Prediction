{
 "cells": [
  {
   "cell_type": "markdown",
   "metadata": {},
   "source": [
    "# Cotton Disease Prediction"
   ]
  },
  {
   "cell_type": "markdown",
   "metadata": {},
   "source": [
    "Dataset: https://www.kaggle.com/janmejaybhoi/cotton-disease-dataset"
   ]
  },
  {
   "cell_type": "code",
   "execution_count": 1,
   "metadata": {},
   "outputs": [],
   "source": [
    "#importing necessary libaries\n",
    "import tensorflow as tf\n",
    "from tensorflow.keras.preprocessing.image import ImageDataGenerator"
   ]
  },
  {
   "cell_type": "code",
   "execution_count": 3,
   "metadata": {},
   "outputs": [],
   "source": [
    "#creating ImagedataGenerator\n",
    "train_datagen=ImageDataGenerator(rescale=1/255.,\n",
    "                  shear_range=0.2,\n",
    "                  zoom_range=0.2,\n",
    "                  horizontal_flip=True)"
   ]
  },
  {
   "cell_type": "code",
   "execution_count": 6,
   "metadata": {},
   "outputs": [
    {
     "name": "stdout",
     "output_type": "stream",
     "text": [
      "Found 1951 images belonging to 4 classes.\n"
     ]
    }
   ],
   "source": [
    "#reading the train images\n",
    "training_set=train_datagen.flow_from_directory(r\"cotton_disease\\Cotton Disease\\train\",\n",
    "                                 target_size=(64,64),\n",
    "                                 batch_size=32,\n",
    "                                 class_mode='categorical')"
   ]
  },
  {
   "cell_type": "code",
   "execution_count": 7,
   "metadata": {},
   "outputs": [
    {
     "name": "stdout",
     "output_type": "stream",
     "text": [
      "Found 106 images belonging to 4 classes.\n"
     ]
    }
   ],
   "source": [
    "#reading the test images\n",
    "test_set=train_datagen.flow_from_directory(r\"cotton_disease\\Cotton Disease\\test\",\n",
    "                                 target_size=(64,64),\n",
    "                                 batch_size=32,\n",
    "                                 class_mode='categorical')"
   ]
  },
  {
   "cell_type": "code",
   "execution_count": null,
   "metadata": {},
   "outputs": [],
   "source": []
  },
  {
   "cell_type": "code",
   "execution_count": 10,
   "metadata": {},
   "outputs": [],
   "source": [
    "from tensorflow.keras.layers import Conv2D\n",
    "from tensorflow.keras.layers import MaxPool2D"
   ]
  },
  {
   "cell_type": "code",
   "execution_count": 12,
   "metadata": {},
   "outputs": [],
   "source": [
    "#creating the model to process the image and creating Dense Layers\n",
    "cnn=tf.keras.models.Sequential()\n",
    "cnn.add(Conv2D(filters=32,padding='same',kernel_size=3,activation='relu',input_shape=[64,64,3]))\n",
    "cnn.add(MaxPool2D(pool_size=2,strides=2))\n",
    "cnn.add(Conv2D(filters=32,padding='same',kernel_size=3,activation='relu'))\n",
    "cnn.add(MaxPool2D(pool_size=2,strides=2))\n",
    "cnn.add(tf.keras.layers.Flatten())\n",
    "cnn.add(tf.keras.layers.Dense(units=128,activation='relu'))\n",
    "cnn.add(tf.keras.layers.Dense(units=4,activation='softmax'))\n"
   ]
  },
  {
   "cell_type": "code",
   "execution_count": 13,
   "metadata": {},
   "outputs": [
    {
     "name": "stdout",
     "output_type": "stream",
     "text": [
      "Model: \"sequential\"\n",
      "_________________________________________________________________\n",
      "Layer (type)                 Output Shape              Param #   \n",
      "=================================================================\n",
      "conv2d (Conv2D)              (None, 64, 64, 32)        896       \n",
      "_________________________________________________________________\n",
      "max_pooling2d (MaxPooling2D) (None, 32, 32, 32)        0         \n",
      "_________________________________________________________________\n",
      "conv2d_1 (Conv2D)            (None, 32, 32, 32)        9248      \n",
      "_________________________________________________________________\n",
      "max_pooling2d_1 (MaxPooling2 (None, 16, 16, 32)        0         \n",
      "_________________________________________________________________\n",
      "flatten (Flatten)            (None, 8192)              0         \n",
      "_________________________________________________________________\n",
      "dense (Dense)                (None, 128)               1048704   \n",
      "_________________________________________________________________\n",
      "dense_1 (Dense)              (None, 4)                 516       \n",
      "=================================================================\n",
      "Total params: 1,059,364\n",
      "Trainable params: 1,059,364\n",
      "Non-trainable params: 0\n",
      "_________________________________________________________________\n"
     ]
    }
   ],
   "source": [
    "cnn.summary()"
   ]
  },
  {
   "cell_type": "code",
   "execution_count": 14,
   "metadata": {},
   "outputs": [],
   "source": [
    "#compiling the model\n",
    "cnn.compile(optimizer='adam',loss='categorical_crossentropy',metrics=['accuracy'])"
   ]
  },
  {
   "cell_type": "code",
   "execution_count": 16,
   "metadata": {},
   "outputs": [
    {
     "name": "stdout",
     "output_type": "stream",
     "text": [
      "Epoch 1/30\n",
      "61/61 [==============================] - 21s 338ms/step - loss: 0.3827 - accuracy: 0.8519 - val_loss: 0.4052 - val_accuracy: 0.8182\n",
      "Epoch 2/30\n",
      "61/61 [==============================] - 21s 339ms/step - loss: 0.3438 - accuracy: 0.8662 - val_loss: 0.3103 - val_accuracy: 0.8893\n",
      "Epoch 3/30\n",
      "61/61 [==============================] - 21s 339ms/step - loss: 0.3229 - accuracy: 0.8790 - val_loss: 0.3975 - val_accuracy: 0.8458\n",
      "Epoch 4/30\n",
      "61/61 [==============================] - 20s 326ms/step - loss: 0.3048 - accuracy: 0.8913 - val_loss: 0.2745 - val_accuracy: 0.8893\n",
      "Epoch 5/30\n",
      "61/61 [==============================] - 20s 328ms/step - loss: 0.2626 - accuracy: 0.9026 - val_loss: 0.3704 - val_accuracy: 0.8379\n",
      "Epoch 6/30\n",
      "61/61 [==============================] - 20s 323ms/step - loss: 0.2554 - accuracy: 0.9103 - val_loss: 0.3549 - val_accuracy: 0.8538\n",
      "Epoch 7/30\n",
      "61/61 [==============================] - 21s 337ms/step - loss: 0.2447 - accuracy: 0.9072 - val_loss: 0.2683 - val_accuracy: 0.9012\n",
      "Epoch 8/30\n",
      "61/61 [==============================] - 20s 332ms/step - loss: 0.2358 - accuracy: 0.9113 - val_loss: 0.2408 - val_accuracy: 0.9209\n",
      "Epoch 9/30\n",
      "61/61 [==============================] - 20s 336ms/step - loss: 0.2433 - accuracy: 0.9108 - val_loss: 0.2494 - val_accuracy: 0.9051\n",
      "Epoch 10/30\n",
      "61/61 [==============================] - 21s 336ms/step - loss: 0.2268 - accuracy: 0.9144 - val_loss: 0.2555 - val_accuracy: 0.8854\n",
      "Epoch 11/30\n",
      "61/61 [==============================] - 20s 332ms/step - loss: 0.2003 - accuracy: 0.9190 - val_loss: 0.2482 - val_accuracy: 0.8972\n",
      "Epoch 12/30\n",
      "61/61 [==============================] - 21s 338ms/step - loss: 0.2311 - accuracy: 0.9098 - val_loss: 0.2775 - val_accuracy: 0.8735\n",
      "Epoch 13/30\n",
      "61/61 [==============================] - 18s 292ms/step - loss: 0.1866 - accuracy: 0.9303 - val_loss: 0.1995 - val_accuracy: 0.9289\n",
      "Epoch 14/30\n",
      "61/61 [==============================] - 19s 310ms/step - loss: 0.1656 - accuracy: 0.9380 - val_loss: 0.2667 - val_accuracy: 0.9130\n",
      "Epoch 15/30\n",
      "61/61 [==============================] - 19s 304ms/step - loss: 0.1571 - accuracy: 0.9452 - val_loss: 0.2661 - val_accuracy: 0.9051\n",
      "Epoch 16/30\n",
      "61/61 [==============================] - 20s 333ms/step - loss: 0.1825 - accuracy: 0.9298 - val_loss: 0.1841 - val_accuracy: 0.9328\n",
      "Epoch 17/30\n",
      "61/61 [==============================] - 21s 336ms/step - loss: 0.1812 - accuracy: 0.9298 - val_loss: 0.2264 - val_accuracy: 0.9170\n",
      "Epoch 18/30\n",
      "61/61 [==============================] - 20s 333ms/step - loss: 0.1595 - accuracy: 0.9421 - val_loss: 0.1969 - val_accuracy: 0.9209\n",
      "Epoch 19/30\n",
      "61/61 [==============================] - 20s 335ms/step - loss: 0.1294 - accuracy: 0.9549 - val_loss: 0.2522 - val_accuracy: 0.9091\n",
      "Epoch 20/30\n",
      "61/61 [==============================] - 20s 332ms/step - loss: 0.1422 - accuracy: 0.9457 - val_loss: 0.3065 - val_accuracy: 0.8854\n",
      "Epoch 21/30\n",
      "61/61 [==============================] - 20s 336ms/step - loss: 0.1374 - accuracy: 0.9446 - val_loss: 0.2190 - val_accuracy: 0.9091\n",
      "Epoch 22/30\n",
      "61/61 [==============================] - 21s 337ms/step - loss: 0.1255 - accuracy: 0.9564 - val_loss: 0.2297 - val_accuracy: 0.9170\n",
      "Epoch 23/30\n",
      "61/61 [==============================] - 20s 333ms/step - loss: 0.1267 - accuracy: 0.9528 - val_loss: 0.3622 - val_accuracy: 0.8735\n",
      "Epoch 24/30\n",
      "61/61 [==============================] - 21s 338ms/step - loss: 0.1316 - accuracy: 0.9493 - val_loss: 0.2410 - val_accuracy: 0.9012\n",
      "Epoch 25/30\n",
      "61/61 [==============================] - 20s 333ms/step - loss: 0.1123 - accuracy: 0.9595 - val_loss: 0.3248 - val_accuracy: 0.8893\n",
      "Epoch 26/30\n",
      "61/61 [==============================] - 19s 311ms/step - loss: 0.1325 - accuracy: 0.9549 - val_loss: 0.3057 - val_accuracy: 0.9091\n",
      "Epoch 27/30\n",
      "61/61 [==============================] - 19s 316ms/step - loss: 0.1004 - accuracy: 0.9626 - val_loss: 0.2162 - val_accuracy: 0.9249\n",
      "Epoch 28/30\n",
      "61/61 [==============================] - 18s 302ms/step - loss: 0.1043 - accuracy: 0.9544 - val_loss: 0.2623 - val_accuracy: 0.9091\n",
      "Epoch 29/30\n",
      "61/61 [==============================] - 19s 315ms/step - loss: 0.0892 - accuracy: 0.9672 - val_loss: 0.3547 - val_accuracy: 0.8775\n",
      "Epoch 30/30\n",
      "61/61 [==============================] - 19s 313ms/step - loss: 0.1394 - accuracy: 0.9416 - val_loss: 0.2194 - val_accuracy: 0.9249\n"
     ]
    },
    {
     "data": {
      "text/plain": [
       "<tensorflow.python.keras.callbacks.History at 0x2b5ce42d208>"
      ]
     },
     "execution_count": 16,
     "metadata": {},
     "output_type": "execute_result"
    }
   ],
   "source": [
    "#training the model\n",
    "cnn.fit(x=training_set,validation_data=valid_set,epochs=30)"
   ]
  },
  {
   "cell_type": "code",
   "execution_count": 61,
   "metadata": {},
   "outputs": [],
   "source": [
    "#saving the model\n",
    "cnn.save('cottonplant_prediction.h5')"
   ]
  },
  {
   "cell_type": "code",
   "execution_count": 65,
   "metadata": {},
   "outputs": [],
   "source": [
    "#testing the model with test the image\n",
    "import numpy as np\n",
    "from tensorflow.keras.preprocessing import image\n",
    "test_image = image.load_img(r\"Cotton Disease\\val\\fresh cotton leaf\\d (112)_iaip.jpg\", target_size = (64,64))\n",
    "test_image = image.img_to_array(test_image)\n",
    "test_image=test_image/255\n",
    "test_image = np.expand_dims(test_image, axis = 0)\n",
    "result = cnn.predict(test_image)"
   ]
  },
  {
   "cell_type": "code",
   "execution_count": 66,
   "metadata": {},
   "outputs": [
    {
     "data": {
      "text/plain": [
       "array([[4.429181e-06, 3.039864e-06, 9.999918e-01, 7.648483e-07]],\n",
       "      dtype=float32)"
      ]
     },
     "execution_count": 66,
     "metadata": {},
     "output_type": "execute_result"
    }
   ],
   "source": [
    "result"
   ]
  },
  {
   "cell_type": "code",
   "execution_count": 68,
   "metadata": {},
   "outputs": [],
   "source": [
    "result=np.where(result==result.max())[1][0]"
   ]
  },
  {
   "cell_type": "code",
   "execution_count": 69,
   "metadata": {},
   "outputs": [
    {
     "name": "stdout",
     "output_type": "stream",
     "text": [
      "Fresh Cotton leaf\n"
     ]
    }
   ],
   "source": [
    "if result==0:\n",
    "    print(\"Diseased Cotton Leaf\")\n",
    "elif result==1:\n",
    "    print(\"Diseased Cotton Plant\")\n",
    "elif result==2:\n",
    "    print('Fresh Cotton leaf')\n",
    "else:\n",
    "    print(\"Fresh Cotton Plant\")"
   ]
  },
  {
   "cell_type": "code",
   "execution_count": null,
   "metadata": {},
   "outputs": [],
   "source": []
  }
 ],
 "metadata": {
  "kernelspec": {
   "display_name": "Python 3",
   "language": "python",
   "name": "python3"
  },
  "language_info": {
   "codemirror_mode": {
    "name": "ipython",
    "version": 3
   },
   "file_extension": ".py",
   "mimetype": "text/x-python",
   "name": "python",
   "nbconvert_exporter": "python",
   "pygments_lexer": "ipython3",
   "version": "3.6.9"
  }
 },
 "nbformat": 4,
 "nbformat_minor": 4
}
